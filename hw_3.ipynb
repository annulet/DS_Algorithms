{
 "cells": [
  {
   "cell_type": "code",
   "execution_count": 1,
   "metadata": {},
   "outputs": [],
   "source": [
    "import numpy as np\n",
    "import pandas as pd\n",
    "import matplotlib.pyplot as plt"
   ]
  },
  {
   "cell_type": "code",
   "execution_count": 2,
   "metadata": {},
   "outputs": [],
   "source": [
    "X = np.array([[1, 1, 1, 1, 1, 1, 1, 1, 1, 1],\n",
    "              [1, 1, 2, 1, 3, 0, 5, 10, 1, 2],\n",
    "              [500, 700, 750, 600, 1450,\n",
    "               800, 1500, 2000, 450, 1000],\n",
    "              [1, 1, 2, 1, 2, \n",
    "               1, 3, 3, 1, 2]], dtype = np.float64)\n",
    "y = np.array([0, 0, 1, 0, 1,\n",
    "              0, 1, 0, 1, 1], dtype = np.float64)"
   ]
  },
  {
   "cell_type": "code",
   "execution_count": 3,
   "metadata": {},
   "outputs": [],
   "source": [
    "def calc_std_feat(x):\n",
    "    res = (x - x.mean()) / x.std()\n",
    "    return res"
   ]
  },
  {
   "cell_type": "code",
   "execution_count": 4,
   "metadata": {},
   "outputs": [],
   "source": [
    "X_st = X.copy()\n",
    "X_st[2, :] = calc_std_feat(X[1, :])"
   ]
  },
  {
   "cell_type": "code",
   "execution_count": 5,
   "metadata": {},
   "outputs": [],
   "source": [
    "def calc_logloss(y, y_pred):\n",
    "    err = - np.mean(y * np.log(y_pred) + (1.0 - y) * np.log(1.0 - y_pred))\n",
    "    err = np.sum(err)\n",
    "    return err"
   ]
  },
  {
   "cell_type": "code",
   "execution_count": 6,
   "metadata": {},
   "outputs": [],
   "source": [
    "def sigmoid(z):\n",
    "    return 1 / (1 + np.exp(-z))"
   ]
  },
  {
   "cell_type": "code",
   "execution_count": 7,
   "metadata": {},
   "outputs": [],
   "source": [
    "def eval_model(X, y, iterations, alpha=1e-4):\n",
    "    np.random.seed(42)\n",
    "    W = np.random.randn(X.shape[0])\n",
    "    n = X.shape[1]\n",
    "    for i in range(1, iterations+1):\n",
    "        z = np.dot(W, X)\n",
    "        y_pred = sigmoid(z)\n",
    "        err = calc_logloss(y, y_pred)\n",
    "        W -= alpha * (1/n * np.dot((y_pred - y), X.T))\n",
    "        if i % (iterations / 10) == 0:\n",
    "            print(i, W, err)\n",
    "    return W"
   ]
  },
  {
   "cell_type": "code",
   "execution_count": 8,
   "metadata": {},
   "outputs": [
    {
     "name": "stdout",
     "output_type": "stream",
     "text": [
      "100 [ 0.49277624 -0.15016005  0.64709669  1.5172415 ] 1.2309273637360083\n",
      "200 [ 0.48885913 -0.1620201   0.64649828  1.51148191] 1.211972737521506\n",
      "300 [ 0.48496327 -0.17384257  0.64589355  1.50575204] 1.1931571091358864\n",
      "400 [ 0.48108916 -0.18562535  0.6452828   1.50005293] 1.1744864101901549\n",
      "500 [ 0.4772373  -0.19736619  0.64466637  1.49438568] 1.155967045243567\n",
      "600 [ 0.47340821 -0.20906258  0.64404467  1.48875145] 1.1376059352778145\n",
      "700 [ 0.46960243 -0.22071181  0.64341817  1.48315148] 1.119410563104108\n",
      "800 [ 0.46582056 -0.2323109   0.64278738  1.4775871 ] 1.101389020053552\n",
      "900 [ 0.46206317 -0.24385659  0.64215292  1.47205973] 1.0835500530355255\n",
      "1000 [ 0.45833091 -0.2553453   0.64151548  1.46657088] 1.0659031107284278\n"
     ]
    }
   ],
   "source": [
    "W = eval_model(X_st, y, iterations=1000, alpha=1e-4)"
   ]
  },
  {
   "cell_type": "markdown",
   "metadata": {},
   "source": [
    "## 1*. Измените функцию calc_logloss так, чтобы нули по возможности не попадали в np.log.  "
   ]
  },
  {
   "cell_type": "code",
   "execution_count": 9,
   "metadata": {},
   "outputs": [],
   "source": [
    "def calc_logloss(y, y_pred):\n",
    "    predicted = y_pred.copy()\n",
    "    for i in range(len(predicted)):\n",
    "        if predicted[i] == 0.0:\n",
    "            predicted[i] = 0.01\n",
    "        elif predicted[i] == 1.0:\n",
    "            predicted[i] = 0.99\n",
    "      \n",
    "    err = - np.mean(y * np.log(predicted) + (1.0 - y) * np.log(1.0 - predicted))\n",
    "    err = np.sum(err)\n",
    "    return err"
   ]
  },
  {
   "cell_type": "markdown",
   "metadata": {},
   "source": [
    "## 2. Подберите аргументы функции eval_model для логистической регрессии таким образом, чтобы log loss был минимальным."
   ]
  },
  {
   "cell_type": "code",
   "execution_count": 10,
   "metadata": {},
   "outputs": [],
   "source": [
    "def eval_model_(X, y, iterations, alpha=1e-4):\n",
    "    np.random.seed(42)\n",
    "    W = np.random.randn(X.shape[0])\n",
    "    n = X.shape[1]\n",
    "    for i in range(1, iterations+1):\n",
    "        z = np.dot(W, X)\n",
    "        y_pred = sigmoid(z)\n",
    "        err = calc_logloss(y, y_pred)\n",
    "        W -= alpha * (1/n * np.dot((y_pred - y), X.T))\n",
    "    #if i % (iterations / 10) == 0:\n",
    "      #print(i, W, alpha, err)\n",
    "    return W, err, alpha, iterations"
   ]
  },
  {
   "cell_type": "code",
   "execution_count": 11,
   "metadata": {},
   "outputs": [
    {
     "name": "stdout",
     "output_type": "stream",
     "text": [
      "The best parameters: iterations 3000, alpha 0.0001\n"
     ]
    }
   ],
   "source": [
    "best_params = None\n",
    "err_min = 1000\n",
    "i = 0\n",
    "for iterations in [4000, 5000, 3500, 2000, 3000]:\n",
    "    for alpha in [1e-3, 1e-8, 1e-2, 0.005, 1e-5, 1e-4]:\n",
    "        params = W, err, alpha, iterations = eval_model_(X_st, y, iterations=iterations, alpha=alpha)\n",
    "        if err < err_min:\n",
    "            err_min = err\n",
    "            best_params = params\n",
    "\n",
    "print(f'The best parameters: iterations {params[-1]}, alpha {params[-2]}')"
   ]
  },
  {
   "cell_type": "markdown",
   "metadata": {},
   "source": [
    "## 3. Создайте функцию calc_pred_proba, возвращающую предсказанную вероятность класса 1 (на вход подаются W, который уже посчитан функцией eval_model и X, на выходе - массив y_pred_proba)."
   ]
  },
  {
   "cell_type": "code",
   "execution_count": 12,
   "metadata": {},
   "outputs": [
    {
     "name": "stdout",
     "output_type": "stream",
     "text": [
      "300 [ 0.48496327 -0.17384257  0.64589355  1.50575204] 1.1931571091358864\n",
      "600 [ 0.47340821 -0.20906258  0.64404467  1.48875145] 1.1376059352778145\n",
      "900 [ 0.46206317 -0.24385659  0.64215292  1.47205973] 1.0835500530355255\n",
      "1200 [ 0.45094443 -0.27813585  0.64023486  1.45571533] 1.031226861538826\n",
      "1500 [ 0.44007076 -0.31178459  0.63831445  1.43976514] 0.9809336291045673\n",
      "1800 [ 0.42946372 -0.34465401  0.63642475  1.42426596] 0.9330340710859316\n",
      "2100 [ 0.41914781 -0.37655851  0.63460935  1.40928523] 0.8879543554013178\n",
      "2400 [ 0.40914981 -0.40727726  0.63292223  1.39489992] 0.8461598024239766\n",
      "2700 [ 0.39949726 -0.43656504  0.63142538  1.38119251] 0.808105289969183\n",
      "3000 [ 0.39021583 -0.46417456  0.63018332  1.36824355] 0.7741616988816424\n"
     ]
    }
   ],
   "source": [
    "W = eval_model(X_st, y, iterations=3000, alpha=1e-4)"
   ]
  },
  {
   "cell_type": "code",
   "execution_count": 40,
   "metadata": {},
   "outputs": [],
   "source": [
    "def calc_pred_proba(X, W):\n",
    "    z = np.dot(W, X)\n",
    "    y_pred_proba = np.floor(sigmoid(z))\n",
    "    return y_pred_proba"
   ]
  },
  {
   "cell_type": "code",
   "execution_count": 41,
   "metadata": {},
   "outputs": [
    {
     "data": {
      "text/plain": [
       "array([1., 1., 1., 1., 1., 1., 1., 1., 1., 1.])"
      ]
     },
     "execution_count": 41,
     "metadata": {},
     "output_type": "execute_result"
    }
   ],
   "source": [
    "calc_pred_proba(X, W)"
   ]
  },
  {
   "cell_type": "markdown",
   "metadata": {},
   "source": [
    "## 4. Создайте функцию calc_pred, возвращающую предсказанный класс (на вход подаются W, который уже посчитан функцией eval_model и X, на выходе - массив y_pred)."
   ]
  },
  {
   "cell_type": "code",
   "execution_count": 37,
   "metadata": {},
   "outputs": [],
   "source": [
    "def calc_pred(W, X):\n",
    "    m = X.shape[1]\n",
    "    y_pred = np.zeros((1, m), dtype = np.int64)\n",
    "    z = W.T @ X\n",
    "    y_pred_proba = sigmoid(z)\n",
    "    \n",
    "    for i in range(len(y_pred_proba)):\n",
    "        if (y_pred_proba[i] > 0.5): \n",
    "            y_pred[:, i] = 1\n",
    "        elif (y_pred_proba[i] <= 0.5):\n",
    "            y_pred[:, i] = 0\n",
    "    return y_pred"
   ]
  },
  {
   "cell_type": "code",
   "execution_count": 38,
   "metadata": {},
   "outputs": [
    {
     "data": {
      "text/plain": [
       "array([[1, 1, 1, 1, 1, 1, 1, 1, 1, 1]], dtype=int64)"
      ]
     },
     "execution_count": 38,
     "metadata": {},
     "output_type": "execute_result"
    }
   ],
   "source": [
    "y_pred = calc_pred(W, X)\n",
    "y_pred"
   ]
  },
  {
   "cell_type": "markdown",
   "metadata": {},
   "source": [
    "## 5. Посчитайте Accuracy, матрицу ошибок, точность и полноту, а также F1 score."
   ]
  },
  {
   "cell_type": "markdown",
   "metadata": {},
   "source": [
    "#### Accuracy"
   ]
  },
  {
   "cell_type": "code",
   "execution_count": 22,
   "metadata": {},
   "outputs": [],
   "source": [
    "def accuracy_(y_pred, y):\n",
    "    return len(y_pred[y == y_pred]) / len(y_pred)"
   ]
  },
  {
   "cell_type": "code",
   "execution_count": 23,
   "metadata": {},
   "outputs": [
    {
     "data": {
      "text/plain": [
       "5.0"
      ]
     },
     "execution_count": 23,
     "metadata": {},
     "output_type": "execute_result"
    }
   ],
   "source": [
    "accuracy_(y_pred, y)"
   ]
  },
  {
   "cell_type": "markdown",
   "metadata": {},
   "source": [
    "#### Correlation Matrix"
   ]
  },
  {
   "cell_type": "code",
   "execution_count": 24,
   "metadata": {},
   "outputs": [],
   "source": [
    "def correlation_matrix(y_pred, y):\n",
    "    TP = len(y_pred[(y == y_pred) & (y_pred == 1)])\n",
    "    FN = len(y_pred[(y != y_pred) & (y_pred == 0)])\n",
    "    FP = len(y_pred[(y != y_pred) & (y_pred == 1)])\n",
    "    TN = len(y_pred[(y == y_pred) & (y_pred == 0)])\n",
    "    corr_matrix = pd.DataFrame.from_dict(\n",
    "        {'y_pred': ['a(x) = +1', 'a(x) = -1'], \n",
    "         'y = +1': [TP, FN], \n",
    "         'y = -1': [FP, TN]}).set_index('y_pred')\n",
    "    return corr_matrix"
   ]
  },
  {
   "cell_type": "code",
   "execution_count": 25,
   "metadata": {},
   "outputs": [
    {
     "data": {
      "text/html": [
       "<div>\n",
       "<style scoped>\n",
       "    .dataframe tbody tr th:only-of-type {\n",
       "        vertical-align: middle;\n",
       "    }\n",
       "\n",
       "    .dataframe tbody tr th {\n",
       "        vertical-align: top;\n",
       "    }\n",
       "\n",
       "    .dataframe thead th {\n",
       "        text-align: right;\n",
       "    }\n",
       "</style>\n",
       "<table border=\"1\" class=\"dataframe\">\n",
       "  <thead>\n",
       "    <tr style=\"text-align: right;\">\n",
       "      <th></th>\n",
       "      <th>y = +1</th>\n",
       "      <th>y = -1</th>\n",
       "    </tr>\n",
       "    <tr>\n",
       "      <th>y_pred</th>\n",
       "      <th></th>\n",
       "      <th></th>\n",
       "    </tr>\n",
       "  </thead>\n",
       "  <tbody>\n",
       "    <tr>\n",
       "      <td>a(x) = +1</td>\n",
       "      <td>5</td>\n",
       "      <td>5</td>\n",
       "    </tr>\n",
       "    <tr>\n",
       "      <td>a(x) = -1</td>\n",
       "      <td>0</td>\n",
       "      <td>0</td>\n",
       "    </tr>\n",
       "  </tbody>\n",
       "</table>\n",
       "</div>"
      ],
      "text/plain": [
       "           y = +1  y = -1\n",
       "y_pred                   \n",
       "a(x) = +1       5       5\n",
       "a(x) = -1       0       0"
      ]
     },
     "execution_count": 25,
     "metadata": {},
     "output_type": "execute_result"
    }
   ],
   "source": [
    "correlation_matrix(y_pred, y)"
   ]
  },
  {
   "cell_type": "markdown",
   "metadata": {},
   "source": [
    "#### Precision"
   ]
  },
  {
   "cell_type": "code",
   "execution_count": 26,
   "metadata": {},
   "outputs": [],
   "source": [
    "def precision_(y_pred, y):\n",
    "    return len(y_pred[(y == y_pred) & (y_pred == 1)]) / (\n",
    "        len(y_pred[(y == y_pred) & (y_pred == 1)]) + len(y_pred[(y != y_pred) & (y_pred == 1)]))"
   ]
  },
  {
   "cell_type": "code",
   "execution_count": 27,
   "metadata": {},
   "outputs": [
    {
     "data": {
      "text/plain": [
       "0.5"
      ]
     },
     "execution_count": 27,
     "metadata": {},
     "output_type": "execute_result"
    }
   ],
   "source": [
    "precision_(y_pred, y)"
   ]
  },
  {
   "cell_type": "markdown",
   "metadata": {},
   "source": [
    "#### Recall"
   ]
  },
  {
   "cell_type": "code",
   "execution_count": 28,
   "metadata": {},
   "outputs": [],
   "source": [
    "def recall_(y_pred, y):\n",
    "    return len(y_pred[(y == y_pred) & (y_pred == 1)]) / (\n",
    "        len(y_pred[(y == y_pred) & (y_pred == 1)]) + len(y_pred[(y != y_pred) & (y_pred == 0)]))"
   ]
  },
  {
   "cell_type": "code",
   "execution_count": 29,
   "metadata": {},
   "outputs": [
    {
     "data": {
      "text/plain": [
       "1.0"
      ]
     },
     "execution_count": 29,
     "metadata": {},
     "output_type": "execute_result"
    }
   ],
   "source": [
    "recall_(y_pred, y)"
   ]
  },
  {
   "cell_type": "markdown",
   "metadata": {},
   "source": [
    "#### F1-score"
   ]
  },
  {
   "cell_type": "code",
   "execution_count": 30,
   "metadata": {},
   "outputs": [],
   "source": [
    "def f1_(y_pred, y):\n",
    "    return 2 * precision_(y_pred, y) * recall_(y_pred, y) / (precision_(y_pred, y) + recall_(y_pred, y))"
   ]
  },
  {
   "cell_type": "code",
   "execution_count": 31,
   "metadata": {},
   "outputs": [
    {
     "data": {
      "text/plain": [
       "0.6666666666666666"
      ]
     },
     "execution_count": 31,
     "metadata": {},
     "output_type": "execute_result"
    }
   ],
   "source": [
    "f1_(y_pred, y)"
   ]
  },
  {
   "cell_type": "markdown",
   "metadata": {},
   "source": [
    "## 6. Могла ли модель переобучиться? Почему?"
   ]
  },
  {
   "cell_type": "markdown",
   "metadata": {},
   "source": [
    "Да. Данных мало. Нет разбиения на тестовую и валидационную выборки."
   ]
  },
  {
   "cell_type": "markdown",
   "metadata": {},
   "source": [
    "## 7*. Создайте функции eval_model_l1 и eval_model_l2 с применением L1 и L2 регуляризаций соответственно."
   ]
  },
  {
   "cell_type": "markdown",
   "metadata": {},
   "source": [
    "#### L1"
   ]
  },
  {
   "cell_type": "code",
   "execution_count": 32,
   "metadata": {},
   "outputs": [],
   "source": [
    "def eval_model_L1(X, y, iterations, alpha=1e-5, lambda_=1e-8):\n",
    "    np.random.seed(42)\n",
    "    W = np.random.randn(X.shape[0])\n",
    "    n = X.shape[1]\n",
    "    for i in range(1, iterations+1):\n",
    "        z = np.dot(W, X)\n",
    "        y_pred = sigmoid(z)\n",
    "        err = calc_logloss(y, y_pred)\n",
    "        W -= alpha * (1/n * np.dot((y_pred - y), X.T)  + lambda_ * np.sign(W))\n",
    "        if i % (iterations / 10) == 0:\n",
    "            print(i, W, err)\n",
    "    return W"
   ]
  },
  {
   "cell_type": "code",
   "execution_count": 33,
   "metadata": {},
   "outputs": [
    {
     "name": "stdout",
     "output_type": "stream",
     "text": [
      "40 [ 0.49651415 -0.1387843   0.46368854  1.52274986] 2.3076102609207965\n",
      "80 [ 0.49631415 -0.1393043   0.27968854  1.52246986] 2.3076102609207965\n",
      "120 [ 0.49611415 -0.1398243   0.09568854  1.52218986] 2.3076102609207965\n",
      "160 [ 0.49599515 -0.1401124  -0.00414988  1.52205088] 0.8479506859997198\n",
      "200 [ 0.49597158 -0.14012408 -0.00414987  1.52207923] 0.8479439030016106\n",
      "240 [ 0.49594801 -0.14013575 -0.00414985  1.52210757] 0.8479371202613354\n",
      "280 [ 0.49592443 -0.14014743 -0.00414983  1.52213592] 0.8479303377785896\n",
      "320 [ 0.49590086 -0.1401591  -0.00414982  1.52216427] 0.847923555553351\n",
      "360 [ 0.49587729 -0.14017077 -0.0041498   1.52219261] 0.8479167735855981\n",
      "400 [ 0.49585371 -0.14018244 -0.00414978  1.52222096] 0.847909991875308\n"
     ]
    },
    {
     "data": {
      "text/plain": [
       "array([ 0.49585371, -0.14018244, -0.00414978,  1.52222096])"
      ]
     },
     "execution_count": 33,
     "metadata": {},
     "output_type": "execute_result"
    }
   ],
   "source": [
    "eval_model_L1(X, y, iterations=400, alpha=1e-5, lambda_=1e-7)"
   ]
  },
  {
   "cell_type": "markdown",
   "metadata": {},
   "source": [
    "#### L2"
   ]
  },
  {
   "cell_type": "code",
   "execution_count": 34,
   "metadata": {},
   "outputs": [],
   "source": [
    "def eval_model_L2(X, y, iterations, alpha=1e-5, lambda_=1e-8):\n",
    "    np.random.seed(42)\n",
    "    W = np.random.randn(X.shape[0])\n",
    "    n = X.shape[1]\n",
    "    for i in range(1, iterations+1):\n",
    "        z = np.dot(W, X)\n",
    "        y_pred = sigmoid(z)\n",
    "        err = calc_logloss(y, y_pred)\n",
    "        W -= alpha * (1/n * np.dot((y_pred - y), X.T) + lambda_ * W)\n",
    "        if i % (iterations / 10) == 0:\n",
    "            print(i, W, err)\n",
    "    return W"
   ]
  },
  {
   "cell_type": "code",
   "execution_count": 35,
   "metadata": {},
   "outputs": [
    {
     "name": "stdout",
     "output_type": "stream",
     "text": [
      "30 [ 0.49656415 -0.1386543   0.50968854  1.52281986] 2.3076102609207965\n",
      "60 [ 0.49641415 -0.1390443   0.37168854  1.52260986] 2.3076102609207965\n",
      "90 [ 0.49626415 -0.1394343   0.23368854  1.52239986] 2.3076102609207965\n",
      "120 [ 0.49611415 -0.1398243   0.09568854  1.52218986] 2.3076102609207965\n",
      "150 [ 0.49600105 -0.14010949 -0.00414989  1.52204379] 0.8479527685868111\n",
      "180 [ 0.49598337 -0.14011824 -0.00414988  1.52206505] 0.8479472941023294\n",
      "210 [ 0.49596569 -0.140127   -0.00414986  1.52208631] 0.8479422069127409\n",
      "240 [ 0.49594801 -0.14013575 -0.00414985  1.52210757] 0.847937119868023\n",
      "270 [ 0.49593033 -0.14014451 -0.00414984  1.52212883] 0.8479320329681664\n",
      "300 [ 0.49591265 -0.14015326 -0.00414983  1.52215009] 0.8479269462131617\n"
     ]
    },
    {
     "data": {
      "text/plain": [
       "array([ 0.49591265, -0.14015326, -0.00414983,  1.52215009])"
      ]
     },
     "execution_count": 35,
     "metadata": {},
     "output_type": "execute_result"
    }
   ],
   "source": [
    "eval_model_L2(X, y, iterations=300, alpha=1e-5, lambda_=1e-8)"
   ]
  },
  {
   "cell_type": "code",
   "execution_count": null,
   "metadata": {},
   "outputs": [],
   "source": []
  }
 ],
 "metadata": {
  "kernelspec": {
   "display_name": "Python 3",
   "language": "python",
   "name": "python3"
  },
  "language_info": {
   "codemirror_mode": {
    "name": "ipython",
    "version": 3
   },
   "file_extension": ".py",
   "mimetype": "text/x-python",
   "name": "python",
   "nbconvert_exporter": "python",
   "pygments_lexer": "ipython3",
   "version": "3.7.1"
  }
 },
 "nbformat": 4,
 "nbformat_minor": 2
}
