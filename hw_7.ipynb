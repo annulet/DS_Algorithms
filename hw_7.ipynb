{
  "nbformat": 4,
  "nbformat_minor": 0,
  "metadata": {
    "colab": {
      "name": "hw_7.ipynb",
      "provenance": [],
      "authorship_tag": "ABX9TyNu5bQFbjtBx824/97kdowl",
      "include_colab_link": true
    },
    "kernelspec": {
      "name": "python3",
      "display_name": "Python 3"
    },
    "accelerator": "GPU"
  },
  "cells": [
    {
      "cell_type": "markdown",
      "metadata": {
        "id": "view-in-github",
        "colab_type": "text"
      },
      "source": [
        "<a href=\"https://colab.research.google.com/github/annulet/DS_Algorithms/blob/master/hw_7.ipynb\" target=\"_parent\"><img src=\"https://colab.research.google.com/assets/colab-badge.svg\" alt=\"Open In Colab\"/></a>"
      ]
    },
    {
      "cell_type": "markdown",
      "metadata": {
        "id": "IYRw-xf05HYP",
        "colab_type": "text"
      },
      "source": [
        "Практическое задание   \n",
        "\n",
        "Попробуйте обучить нейронную сеть LSTM на любом другом датасете. Опишите в комментарии к уроку - какой результата вы добились от нейросети? Что помогло вам улучшить ее точность?   \n",
        "\n",
        "*Попробуйте на numpy реализовать нейронную сеть архитектуры LSTM   \n",
        "\n",
        "*Предложите свои варианты решения проблемы исчезающего градиента в RNN"
      ]
    },
    {
      "cell_type": "code",
      "metadata": {
        "id": "WjVjHpx75F2C",
        "colab_type": "code",
        "colab": {}
      },
      "source": [
        "import copy, numpy as np\n",
        "np.random.seed(0)"
      ],
      "execution_count": 0,
      "outputs": []
    },
    {
      "cell_type": "code",
      "metadata": {
        "id": "eJhZo6YL5ISe",
        "colab_type": "code",
        "outputId": "0ba0a2d4-b75b-4eea-fc5b-61492a09902c",
        "colab": {
          "base_uri": "https://localhost:8080/",
          "height": 35
        }
      },
      "source": [
        "from __future__ import print_function\n",
        "import tensorflow as tf\n",
        "\n",
        "from keras.preprocessing import sequence\n",
        "from keras.models import Sequential\n",
        "from keras.layers import Dense, Embedding\n",
        "from keras.layers import LSTM\n",
        "from tensorflow.keras.utils import to_categorical\n",
        "from keras.datasets import reuters"
      ],
      "execution_count": 2,
      "outputs": [
        {
          "output_type": "stream",
          "text": [
            "Using TensorFlow backend.\n"
          ],
          "name": "stderr"
        }
      ]
    },
    {
      "cell_type": "markdown",
      "metadata": {
        "id": "tBnTt5096dGp",
        "colab_type": "text"
      },
      "source": [
        "Импортируем датасет Reuters newswire topics classification"
      ]
    },
    {
      "cell_type": "code",
      "metadata": {
        "id": "kESGq9MG5rIo",
        "colab_type": "code",
        "colab": {
          "base_uri": "https://localhost:8080/",
          "height": 54
        },
        "outputId": "552a20ba-623e-483b-a494-f99240b88b50"
      },
      "source": [
        "(x_train, y_train), (x_test, y_test) = reuters.load_data(path=\"reuters.npz\",\n",
        "                                                         num_words=None,\n",
        "                                                         skip_top=0,\n",
        "                                                         maxlen=None,\n",
        "                                                         test_split=0.2,\n",
        "                                                         seed=113,\n",
        "                                                         start_char=1,\n",
        "                                                         oov_char=2,\n",
        "                                                         index_from=3)"
      ],
      "execution_count": 3,
      "outputs": [
        {
          "output_type": "stream",
          "text": [
            "Downloading data from https://s3.amazonaws.com/text-datasets/reuters.npz\n",
            "2113536/2110848 [==============================] - 2s 1us/step\n"
          ],
          "name": "stdout"
        }
      ]
    },
    {
      "cell_type": "code",
      "metadata": {
        "id": "Kcg-bx1h6ozf",
        "colab_type": "code",
        "outputId": "450a9dec-f7b2-4ea1-d0c5-7c5727c88d8e",
        "colab": {
          "base_uri": "https://localhost:8080/",
          "height": 35
        }
      },
      "source": [
        "x_train.shape, y_train.shape"
      ],
      "execution_count": 4,
      "outputs": [
        {
          "output_type": "execute_result",
          "data": {
            "text/plain": [
              "((8982,), (8982,))"
            ]
          },
          "metadata": {
            "tags": []
          },
          "execution_count": 4
        }
      ]
    },
    {
      "cell_type": "code",
      "metadata": {
        "id": "S5EVVaZr6671",
        "colab_type": "code",
        "outputId": "189034cd-195a-4af4-a90b-db430bded8e8",
        "colab": {
          "base_uri": "https://localhost:8080/",
          "height": 35
        }
      },
      "source": [
        "x_test.shape, y_test.shape"
      ],
      "execution_count": 5,
      "outputs": [
        {
          "output_type": "execute_result",
          "data": {
            "text/plain": [
              "((2246,), (2246,))"
            ]
          },
          "metadata": {
            "tags": []
          },
          "execution_count": 5
        }
      ]
    },
    {
      "cell_type": "code",
      "metadata": {
        "id": "tRUK4LJA7GHg",
        "colab_type": "code",
        "colab": {}
      },
      "source": [
        "max_features = 30980\n",
        "batch_size = 256"
      ],
      "execution_count": 0,
      "outputs": []
    },
    {
      "cell_type": "code",
      "metadata": {
        "id": "7awlcoov7Kk7",
        "colab_type": "code",
        "outputId": "2b175323-eace-4afa-c6ae-2b26c0dc6eb6",
        "colab": {
          "base_uri": "https://localhost:8080/",
          "height": 35
        }
      },
      "source": [
        "x_train = tf.keras.preprocessing.sequence.pad_sequences(x_train, padding='post', maxlen=256)\n",
        "x_test = tf.keras.preprocessing.sequence.pad_sequences(x_test, padding='post', maxlen=256)\n",
        "\n",
        "len(x_train[0]), len(x_train[1]), len(x_train[10])"
      ],
      "execution_count": 7,
      "outputs": [
        {
          "output_type": "execute_result",
          "data": {
            "text/plain": [
              "(256, 256, 256)"
            ]
          },
          "metadata": {
            "tags": []
          },
          "execution_count": 7
        }
      ]
    },
    {
      "cell_type": "code",
      "metadata": {
        "id": "j8C2jcslLTUZ",
        "colab_type": "code",
        "colab": {}
      },
      "source": [
        "y_train = to_categorical(y_train, 46) \n",
        "y_test = to_categorical(y_test, 46) "
      ],
      "execution_count": 0,
      "outputs": []
    },
    {
      "cell_type": "code",
      "metadata": {
        "id": "4CLYvSu07vSm",
        "colab_type": "code",
        "colab": {
          "base_uri": "https://localhost:8080/",
          "height": 35
        },
        "outputId": "f813f77a-3edf-4749-d5f3-456394dd9408"
      },
      "source": [
        "model = tf.keras.Sequential()\n",
        "model.add(tf.keras.layers.Embedding(max_features, 128))\n",
        "model.add(tf.keras.layers.LSTM(128, dropout=0.2, recurrent_dropout=0.2))\n",
        "model.add(tf.keras.layers.Dense(46, activation='softmax'))"
      ],
      "execution_count": 9,
      "outputs": [
        {
          "output_type": "stream",
          "text": [
            "WARNING:tensorflow:Layer lstm will not use cuDNN kernel since it doesn't meet the cuDNN kernel criteria. It will use generic GPU kernel as fallback when running on GPU\n"
          ],
          "name": "stdout"
        }
      ]
    },
    {
      "cell_type": "code",
      "metadata": {
        "id": "kqgCjlXG7zGk",
        "colab_type": "code",
        "colab": {}
      },
      "source": [
        "model.compile(loss='binary_crossentropy',\n",
        "              optimizer='adam',\n",
        "              metrics=['accuracy'])"
      ],
      "execution_count": 0,
      "outputs": []
    },
    {
      "cell_type": "code",
      "metadata": {
        "id": "LLvb7cb38XXu",
        "colab_type": "code",
        "outputId": "3db16de2-33db-492a-eceb-d87ebd12625e",
        "colab": {
          "base_uri": "https://localhost:8080/",
          "height": 581
        }
      },
      "source": [
        "model.fit(x_train, y_train,\n",
        "          batch_size=batch_size,\n",
        "          epochs=15,\n",
        "          validation_data=(x_test, y_test))"
      ],
      "execution_count": 11,
      "outputs": [
        {
          "output_type": "stream",
          "text": [
            "Epoch 1/15\n",
            "36/36 [==============================] - 39s 1s/step - loss: 0.0804 - accuracy: 0.3353 - val_loss: 0.0720 - val_accuracy: 0.3722\n",
            "Epoch 2/15\n",
            "36/36 [==============================] - 40s 1s/step - loss: 0.0715 - accuracy: 0.3553 - val_loss: 0.0711 - val_accuracy: 0.3722\n",
            "Epoch 3/15\n",
            "36/36 [==============================] - 39s 1s/step - loss: 0.0710 - accuracy: 0.3585 - val_loss: 0.0710 - val_accuracy: 0.3722\n",
            "Epoch 4/15\n",
            "36/36 [==============================] - 41s 1s/step - loss: 0.0709 - accuracy: 0.3573 - val_loss: 0.0707 - val_accuracy: 0.3722\n",
            "Epoch 5/15\n",
            "36/36 [==============================] - 39s 1s/step - loss: 0.0706 - accuracy: 0.3599 - val_loss: 0.0714 - val_accuracy: 0.3620\n",
            "Epoch 6/15\n",
            "36/36 [==============================] - 39s 1s/step - loss: 0.0712 - accuracy: 0.3555 - val_loss: 0.0712 - val_accuracy: 0.3722\n",
            "Epoch 7/15\n",
            "36/36 [==============================] - 39s 1s/step - loss: 0.0709 - accuracy: 0.3585 - val_loss: 0.0709 - val_accuracy: 0.3722\n",
            "Epoch 8/15\n",
            "36/36 [==============================] - 40s 1s/step - loss: 0.0710 - accuracy: 0.3584 - val_loss: 0.0707 - val_accuracy: 0.3722\n",
            "Epoch 9/15\n",
            "36/36 [==============================] - 39s 1s/step - loss: 0.0707 - accuracy: 0.3584 - val_loss: 0.0708 - val_accuracy: 0.3722\n",
            "Epoch 10/15\n",
            "36/36 [==============================] - 38s 1s/step - loss: 0.0708 - accuracy: 0.3584 - val_loss: 0.0709 - val_accuracy: 0.3722\n",
            "Epoch 11/15\n",
            "36/36 [==============================] - 38s 1s/step - loss: 0.0706 - accuracy: 0.3585 - val_loss: 0.0706 - val_accuracy: 0.3722\n",
            "Epoch 12/15\n",
            "36/36 [==============================] - 38s 1s/step - loss: 0.0702 - accuracy: 0.3584 - val_loss: 0.0708 - val_accuracy: 0.3722\n",
            "Epoch 13/15\n",
            "36/36 [==============================] - 39s 1s/step - loss: 0.0704 - accuracy: 0.3627 - val_loss: 0.0709 - val_accuracy: 0.3722\n",
            "Epoch 14/15\n",
            "36/36 [==============================] - 38s 1s/step - loss: 0.0709 - accuracy: 0.3584 - val_loss: 0.0707 - val_accuracy: 0.3722\n",
            "Epoch 15/15\n",
            "36/36 [==============================] - 39s 1s/step - loss: 0.0709 - accuracy: 0.3584 - val_loss: 0.0708 - val_accuracy: 0.3722\n"
          ],
          "name": "stdout"
        },
        {
          "output_type": "execute_result",
          "data": {
            "text/plain": [
              "<tensorflow.python.keras.callbacks.History at 0x7f4673fd10f0>"
            ]
          },
          "metadata": {
            "tags": []
          },
          "execution_count": 11
        }
      ]
    },
    {
      "cell_type": "markdown",
      "metadata": {
        "id": "p6ekAFHA0TUa",
        "colab_type": "text"
      },
      "source": [
        "Сеть не обучается"
      ]
    },
    {
      "cell_type": "code",
      "metadata": {
        "id": "Ipmd24GFAnV0",
        "colab_type": "code",
        "colab": {}
      },
      "source": [
        ""
      ],
      "execution_count": 0,
      "outputs": []
    }
  ]
}